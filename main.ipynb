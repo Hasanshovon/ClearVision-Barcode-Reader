{
 "cells": [
  {
   "cell_type": "markdown",
   "metadata": {},
   "source": [
    "### Install Required Libraries"
   ]
  },
  {
   "cell_type": "code",
   "execution_count": 2,
   "metadata": {},
   "outputs": [
    {
     "name": "stdout",
     "output_type": "stream",
     "text": [
      "Collecting pyzbar\n",
      "  Downloading pyzbar-0.1.9-py2.py3-none-win_amd64.whl (817 kB)\n",
      "     ---------------------------------------- 0.0/817.4 kB ? eta -:--:--\n",
      "      --------------------------------------- 10.2/817.4 kB ? eta -:--:--\n",
      "     -------- ----------------------------- 174.1/817.4 kB 2.1 MB/s eta 0:00:01\n",
      "     -------------------- ----------------- 450.6/817.4 kB 4.0 MB/s eta 0:00:01\n",
      "     -------------------------------------  809.0/817.4 kB 5.1 MB/s eta 0:00:01\n",
      "     -------------------------------------- 817.4/817.4 kB 4.7 MB/s eta 0:00:00\n",
      "Installing collected packages: pyzbar\n",
      "Successfully installed pyzbar-0.1.9\n"
     ]
    }
   ],
   "source": [
    "! pip install pyzbar"
   ]
  },
  {
   "cell_type": "markdown",
   "metadata": {},
   "source": [
    "### Import Necessary Modules"
   ]
  },
  {
   "cell_type": "code",
   "execution_count": 3,
   "metadata": {},
   "outputs": [],
   "source": [
    "import cv2\n",
    "from pyzbar import pyzbar"
   ]
  },
  {
   "cell_type": "markdown",
   "metadata": {},
   "source": [
    "### Load the Barcode Image"
   ]
  },
  {
   "cell_type": "code",
   "execution_count": 29,
   "metadata": {},
   "outputs": [],
   "source": [
    "img=cv2.imread(\"test2.jpg\")"
   ]
  },
  {
   "cell_type": "code",
   "execution_count": 30,
   "metadata": {},
   "outputs": [],
   "source": [
    "cv2.imshow(\"img\",img)\n",
    "cv2.waitKey(0)\n",
    "cv2.destroyAllWindows()"
   ]
  },
  {
   "cell_type": "code",
   "execution_count": 31,
   "metadata": {},
   "outputs": [
    {
     "name": "stdout",
     "output_type": "stream",
     "text": [
      "[Decoded(data=b'0123456789012', type='EAN13', rect=Rect(left=93, top=79, width=359, height=178), polygon=[Point(x=93, y=79), Point(x=93, y=257), Point(x=267, y=257), Point(x=452, y=256), Point(x=452, y=80)], quality=357, orientation='UP')]\n"
     ]
    }
   ],
   "source": [
    "barcodes = pyzbar.decode(img)\n",
    "print(barcodes)"
   ]
  },
  {
   "cell_type": "markdown",
   "metadata": {},
   "source": [
    "###  Detect and Decode Barcodes"
   ]
  },
  {
   "cell_type": "code",
   "execution_count": 32,
   "metadata": {},
   "outputs": [],
   "source": [
    "for barcode in barcodes:\n",
    "    # Retrieve barcode location\n",
    "    x,y,w,h=barcode.rect\n",
    "     # Draw a green rectangle around the barcode\n",
    "    cv2.rectangle(img,(x,y),(x+w,y+h),(0,0,255),4)\n",
    "    bdata = barcode.data.decode(\"utf-8\")\n",
    "    btype=barcode.type\n",
    "    text=f\"{bdata},{btype}\"\n",
    "    # Add text on the image\n",
    "    cv2.putText(img,text,(x,y-10),cv2.FONT_HERSHEY_SIMPLEX,0.5,(0,255,0),2)"
   ]
  },
  {
   "cell_type": "markdown",
   "metadata": {},
   "source": [
    "### Display the Processed Image"
   ]
  },
  {
   "cell_type": "code",
   "execution_count": 33,
   "metadata": {},
   "outputs": [],
   "source": [
    "cv2.imshow(\"img\",img)\n",
    "cv2.waitKey(0)\n",
    "cv2.destroyAllWindows()\n"
   ]
  },
  {
   "cell_type": "code",
   "execution_count": null,
   "metadata": {},
   "outputs": [],
   "source": []
  }
 ],
 "metadata": {
  "kernelspec": {
   "display_name": "base",
   "language": "python",
   "name": "python3"
  },
  "language_info": {
   "codemirror_mode": {
    "name": "ipython",
    "version": 3
   },
   "file_extension": ".py",
   "mimetype": "text/x-python",
   "name": "python",
   "nbconvert_exporter": "python",
   "pygments_lexer": "ipython3",
   "version": "3.11.5"
  }
 },
 "nbformat": 4,
 "nbformat_minor": 2
}
